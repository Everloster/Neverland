{
 "cells": [
  {
   "cell_type": "markdown",
   "metadata": {},
   "source": [
    "使用 transformers 库进行文本分类,只指定模型名字，获取默认的模型。"
   ]
  },
  {
   "cell_type": "code",
   "execution_count": null,
   "metadata": {},
   "outputs": [],
   "source": [
    "from transformers import pipeline\n",
    "classifier = pipeline(\"sentiment-analysis\")\n",
    "classifier(\"你好啊\")"
   ]
  },
  {
   "cell_type": "code",
   "execution_count": null,
   "metadata": {},
   "outputs": [],
   "source": [
    "results = classifier([\"We are very happy to show you the 🤗 Transformers library.\", \"We hope you don't hate it.\"])\n",
    "for result in results:\n",
    "    print(f\"label: {result['label']}, with score: {round(result['score'], 4)}\")"
   ]
  },
  {
   "cell_type": "markdown",
   "metadata": {},
   "source": [
    "使用多语言支持的模型进行分类，指定模型名字，获取模型和tokenizer."
   ]
  },
  {
   "cell_type": "code",
   "execution_count": null,
   "metadata": {},
   "outputs": [],
   "source": [
    "from transformers import AutoTokenizer, AutoModelForSequenceClassification\n",
    "model_name = \"nlptown/bert-base-multilingual-uncased-sentiment\"\n",
    "model = AutoModelForSequenceClassification.from_pretrained(model_name)\n",
    "tokenizer = AutoTokenizer.from_pretrained(model_name)\n",
    "classifier = pipeline(\"sentiment-analysis\", model=model, tokenizer=tokenizer)\n",
    "\n",
    "# 准备不同语言的测试文本\n",
    "texts = [\n",
    "    (\"英语\", \"I am very happy to show you the 🤗 Transformers library.\"),\n",
    "    (\"中文\", \"我很高兴能使用Transformers库来处理自然语言。\"),\n",
    "    (\"法语\", \"Je suis très heureux de vous présenter la bibliothèque Transformers.\"),\n",
    "    (\"日语\", \"Transformersライブラリを使用できて本当に嬉しいです。\"),\n",
    "    (\"德语\", \"Ich bin sehr glücklich, Ihnen die Transformers-Bibliothek zu zeigen.\"),\n",
    "    (\"西班牙语\", \"Estoy muy feliz de mostrarles la biblioteca Transformers.\"),\n",
    "    (\"阿拉伯语\", \"أنا سعيد جدا لأظهر لكم مكتبة المحولات.\")\n",
    "]\n",
    "\n",
    "# 分析每种语言的文本并打印结果\n",
    "for language, text in texts:\n",
    "    result = classifier(text)[0]\n",
    "    encoding = tokenizer.encode(text)\n",
    "    print(f\"编码: {encoding}\")\n",
    "    print(f\"语言: {language}\")\n",
    "    print(f\"文本: {text}\")\n",
    "    print(f\"情感分析结果: {result['label']}\")\n",
    "    print(f\"置信度: {result['score']:.4f}\\n\")"
   ]
  }
 ],
 "metadata": {
  "kernelspec": {
   "display_name": "Python 3",
   "language": "python",
   "name": "python3"
  },
  "language_info": {
   "codemirror_mode": {
    "name": "ipython",
    "version": 3
   },
   "file_extension": ".py",
   "mimetype": "text/x-python",
   "name": "python",
   "nbconvert_exporter": "python",
   "pygments_lexer": "ipython3",
   "version": "3.9.6"
  }
 },
 "nbformat": 4,
 "nbformat_minor": 2
}
