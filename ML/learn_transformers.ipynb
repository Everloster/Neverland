from transformers import AutoTokenizer, AutoModelForSequenceClassification
model_name = "nlptown/bert-base-multilingual-uncased-sentiment"
model = AutoModelForSequenceClassification.from_pretrained(model_name)
tokenizer = AutoTokenizer.from_pretrained(model_name)
classifier = pipeline("sentiment-analysis", model=model, tokenizer=tokenizer)

# 准备不同语言的测试文本
texts = [
    ("英语", "I am very happy to show you the 🤗 Transformers library."),
    ("中文", "我很高兴能使用Transformers库来处理自然语言。"),
    ("法语", "Je suis très heureux de vous présenter la bibliothèque Transformers."),
    ("日语", "Transformersライブラリを使用できて本当に嬉しいです。"),
    ("德语", "Ich bin sehr glücklich, Ihnen die Transformers-Bibliothek zu zeigen."),
    ("西班牙语", "Estoy muy feliz de mostrarles la biblioteca Transformers."),
    ("阿拉伯语", "أنا سعيد جدا لأظهر لكم مكتبة المحولات.")
]

# 分析每种语言的文本并打印结果
for language, text in texts:
    result = classifier(text)[0]
    print(f"语言: {language}")
    print(f"文本: {text}")
    print(f"情感分析结果: {result['label']}")
    print(f"置信度: {result['score']:.4f}\n")