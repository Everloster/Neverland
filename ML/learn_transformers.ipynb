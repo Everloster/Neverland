from transformers import AutoTokenizer, AutoModelForSequenceClassification
model_name = "nlptown/bert-base-multilingual-uncased-sentiment"
model = AutoModelForSequenceClassification.from_pretrained(model_name)
tokenizer = AutoTokenizer.from_pretrained(model_name)
classifier = pipeline("sentiment-analysis", model=model, tokenizer=tokenizer)

# 创建多语言测试文本字典
test_texts = {
    "英语": "I am very happy to show you the 🤗 Transformers library.",
    "中文": "我很高兴你能使用Transformers库",
    "法语": "Nous sommes très heureux de vous présenter la bibliothèque 🤗 Transformers.",
    "日语": "私は本ライブラリーを使用していて非常に幸せです。",
    "德语": "Wir freuen uns sehr, Ihnen die 🤗 Transformers-Bibliothek zu zeigen.",
    "西班牙语": "Estamos muy contentos de mostrarle la biblioteca 🤗 Transformers."
}

# 对每种语言进行情感分析并打印结果
for language, text in test_texts.items():
    result = classifier(text)[0]
    print(f"语言: {language}")
    print(f"文本: {text}")
    print(f"情感: {result['label']}, 得分: {result['score']:.4f}\n")