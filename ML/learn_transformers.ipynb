{
 "cells": [
  {
   "cell_type": "markdown",
   "metadata": {},
   "source": [
    "使用 transformers 库进行文本分类,只指定模型名字，获取默认的模型。"
   ]
  },
  {
   "cell_type": "code",
   "execution_count": null,
   "metadata": {},
   "outputs": [],
   "source": [
    "from transformers import pipeline\n",
    "classifier = pipeline(\"sentiment-analysis\")\n",
    "classifier(\"你好啊\")"
   ]
  },
  {
   "cell_type": "code",
   "execution_count": null,
   "metadata": {},
   "outputs": [],
   "source": [
    "results = classifier([\"We are very happy to show you the 🤗 Transformers library.\", \"We hope you don't hate it.\"])\n",
    "for result in results:\n",
    "    print(f\"label: {result['label']}, with score: {round(result['score'], 4)}\")"
   ]
  },
  {
   "cell_type": "markdown",
   "metadata": {},
   "source": [
    "使用多语言支持的模型进行分类，指定模型名字，获取模型和tokenizer."
   ]
  },
  {
   "cell_type": "code",
   "execution_count": null,
   "metadata": {},
   "outputs": [],
   "source": [
    "from transformers import AutoTokenizer, AutoModelForSequenceClassification\n",
    "model_name = \"nlptown/bert-base-multilingual-uncased-sentiment\"\n",
    "model = AutoModelForSequenceClassification.from_pretrained(model_name)\n",
    "tokenizer = AutoTokenizer.from_pretrained(model_name)\n",
    "classifier = pipeline(\"sentiment-analysis\", model=model, tokenizer=tokenizer)\n",
    "\n",
    "# 准备不同语言的测试文本\n",
    "texts = [\n",
    "    (\"英语\", \"I am very happy to show you the 🤗 Transformers library.\"),\n",
    "    (\"中文\", \"我很高兴能使用Transformers库来处理自然语言。\"),\n",
    "    (\"法语\", \"Je suis très heureux de vous présenter la bibliothèque Transformers.\"),\n",
    "    (\"日语\", \"Transformersライブラリを使用できて本当に嬉しいです。\"),\n",
    "    (\"德语\", \"Ich bin sehr glücklich, Ihnen die Transformers-Bibliothek zu zeigen.\"),\n",
    "    (\"西班牙语\", \"Estoy muy feliz de mostrarles la biblioteca Transformers.\"),\n",
    "    (\"阿拉伯语\", \"أنا سعيد جدا لأظهر لكم مكتبة المحولات.\")\n",
    "]\n",
    "\n",
    "# 提取文本列表\n",
    "text_list = [text for _, text in texts]\n",
    "\n",
    "# 使用tokenizer进行批量编码\n",
    "pt_batch = tokenizer(text_list,\n",
    "    padding=True,\n",
    "    truncation=True,\n",
    "    max_length=512,\n",
    "    return_tensors=\"pt\"\n",
    ")\n",
    "# 分析每种语言的文本并打印结果\n",
    "for i, (language, text) in enumerate(texts):\n",
    "    result = classifier(text)[0]\n",
    "    print(f\"语言: {language}\")\n",
    "    print(f\"文本: {text}\")\n",
    "    print(f\"编码: {pt_batch['input_ids'][i].tolist()}\")\n",
    "    print(f\"情感分析结果: {result['label']}\")\n",
    "    print(f\"置信度: {result['score']:.4f}\\n\")\n",
    "    "
   ]
  },
  {
   "cell_type": "markdown",
   "metadata": {},
   "source": [
    "使用 auto model\n"
   ]
  },
  {
   "cell_type": "code",
   "execution_count": null,
   "metadata": {},
   "outputs": [
    {
     "name": "stdout",
     "output_type": "stream",
     "text": [
      "SequenceClassifierOutput(loss=None, logits=tensor([[-2.5757, -2.7271, -0.9195,  1.9724,  3.2714],\n",
      "        [-1.9059, -1.8607, -0.5966,  1.1100,  2.5102],\n",
      "        [-2.3211, -2.4435, -0.5569,  1.6607,  2.8887],\n",
      "        [-2.3028, -1.7910,  0.1935,  1.5138,  1.7481],\n",
      "        [-2.2007, -2.4555, -0.9112,  1.6622,  3.0401],\n",
      "        [-2.2117, -2.4682, -0.6222,  1.7106,  2.8585],\n",
      "        [-0.7225, -0.3669,  0.4493,  0.4018,  0.1423]],\n",
      "       grad_fn=<AddmmBackward0>), hidden_states=None, attentions=None)\n"
     ]
    }
   ],
   "source": [
    "from transformers import AutoModelForSequenceClassification\n",
    "\n",
    "model_name = \"nlptown/bert-base-multilingual-uncased-sentiment\"\n",
    "pt_model = AutoModelForSequenceClassification.from_pretrained(model_name, torch_dtype=\"auto\")\n",
    "\n",
    "pt_outputs = pt_model(**pt_batch)\n",
    "\n",
    "from torch import nn\n",
    "\n",
    "pt_predictions = nn.functional.softmax(pt_outputs.logits, dim=-1)\n",
    "print(pt_predictions)\n"
   ]
  }
 ],
 "metadata": {
  "kernelspec": {
   "display_name": "Python 3",
   "language": "python",
   "name": "python3"
  },
  "language_info": {
   "codemirror_mode": {
    "name": "ipython",
    "version": 3
   },
   "file_extension": ".py",
   "mimetype": "text/x-python",
   "name": "python",
   "nbconvert_exporter": "python",
   "pygments_lexer": "ipython3",
   "version": "3.9.6"
  }
 },
 "nbformat": 4,
 "nbformat_minor": 2
}
